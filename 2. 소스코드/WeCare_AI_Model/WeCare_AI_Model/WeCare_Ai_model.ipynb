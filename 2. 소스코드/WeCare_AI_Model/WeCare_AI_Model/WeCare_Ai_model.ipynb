{
  "cells": [
    {
      "cell_type": "code",
      "execution_count": null,
      "id": "7331e449",
      "metadata": {
        "id": "7331e449"
      },
      "outputs": [],
      "source": [
        "import os\n",
        "import pickle # save list as .pickle\n",
        "import numpy as np\n",
        "from tqdm import tqdm\n",
        "import cv2 # read video file\n",
        "from skimage.transform import resize # resizing images"
      ]
    },
    {
      "cell_type": "code",
      "execution_count": null,
      "id": "a00dd9ca",
      "metadata": {
        "id": "a00dd9ca"
      },
      "outputs": [],
      "source": [
        "def Save2Npy(file_dir, save_dir):\n",
        "\n",
        "    if not os.path.exists(save_dir): # If there is not save_dir folder, then create new folder at there.\n",
        "        os.makedirs(save_dir)\n",
        "    \n",
        "    file_list=os.listdir(file_dir) # Make list of video file(in file_dir folder)'s name.\n",
        "    \n",
        "    for file in tqdm(file_list):\n",
        "        frames=np.zeros((30, 160, 160, 3), dtype=np.float)\n",
        "        i=0\n",
        "        \n",
        "        vid=cv2.VideoCapture(os.path.join(file_dir, file)) # Create cv2.VideoCapture() Object of each video file.\n",
        "        \n",
        "        if vid.isOpened():\n",
        "            grabbed, frame=vid.read()\n",
        "        else:\n",
        "            grabbed=False\n",
        "            \n",
        "        frm=resize(frame, (160, 160, 3))\n",
        "        frm=np.expand_dims(frm, axis=0)\n",
        "        \n",
        "        if(np.max(frm)>1):\n",
        "            frm=frm/255.0\n",
        "        frames[i][:]=frm\n",
        "        i+=1\n",
        "      \n",
        "        while i<30:\n",
        "            grabbed, frame=vid.read()\n",
        "            if not grabbed:\n",
        "                break\n",
        "            # if type(frame) == type(None):\n",
        "            #   break\n",
        "            frm=resize(frame, (160, 160, 3))\n",
        "            frm=np.expand_dims(frm, axis=0)\n",
        "\n",
        "\n",
        "            if(np.max(frm)>1):\n",
        "                frm=frm/255.0\n",
        "            frames[i][:] = frm\n",
        "            i+=1\n",
        "\n",
        "        video_name=file.split('.')[0]\n",
        "        video_path=os.path.join(file_dir, file)\n",
        "        save_path=os.path.join(save_dir, video_name+'.npy')\n",
        "\n",
        "        np.save(save_path, frames)"
      ]
    },
    {
      "cell_type": "code",
      "execution_count": null,
      "id": "e4788277",
      "metadata": {
        "id": "e4788277",
        "outputId": "5e86d9a3-901e-408d-b376-201752ed94ba"
      },
      "outputs": [
        {
          "name": "stderr",
          "output_type": "stream",
          "text": [
            "  0%|                                                                              | 0/350 [00:00<?, ?it/s]C:\\Users\\user\\AppData\\Local\\Temp/ipykernel_2928/2592651303.py:12: DeprecationWarning: `np.float` is a deprecated alias for the builtin `float`. To silence this warning, use `float` by itself. Doing this will not modify any behavior and is safe. If you specifically wanted the numpy scalar type, use `np.float64` here.\n",
            "Deprecated in NumPy 1.20; for more details and guidance: https://numpy.org/devdocs/release/1.20.0-notes.html#deprecations\n",
            "  frames=np.zeros((30, 160, 160, 3), dtype=np.float)\n",
            "100%|████████████████████████████████████████████████████████████████████| 350/350 [30:49<00:00,  5.28s/it]\n"
          ]
        }
      ],
      "source": [
        "file_dir='C:\\\\TF2_Object_Detection_API\\\\datasets\\\\violent'\n",
        "save_dir='C:\\\\TF2_Object_Detection_API\\\\datasets\\\\AllVideo_Fight_Numpy'\n",
        "\n",
        "Save2Npy(file_dir=file_dir, save_dir=save_dir)"
      ]
    },
    {
      "cell_type": "code",
      "execution_count": null,
      "id": "cf799a52",
      "metadata": {
        "id": "cf799a52",
        "outputId": "eb3308df-9a40-4c64-8a81-65444d779111"
      },
      "outputs": [
        {
          "name": "stderr",
          "output_type": "stream",
          "text": [
            "  0%|                                                                              | 0/276 [00:00<?, ?it/s]C:\\Users\\user\\AppData\\Local\\Temp/ipykernel_2928/2592651303.py:12: DeprecationWarning: `np.float` is a deprecated alias for the builtin `float`. To silence this warning, use `float` by itself. Doing this will not modify any behavior and is safe. If you specifically wanted the numpy scalar type, use `np.float64` here.\n",
            "Deprecated in NumPy 1.20; for more details and guidance: https://numpy.org/devdocs/release/1.20.0-notes.html#deprecations\n",
            "  frames=np.zeros((30, 160, 160, 3), dtype=np.float)\n",
            "100%|████████████████████████████████████████████████████████████████████| 276/276 [21:16<00:00,  4.62s/it]\n"
          ]
        }
      ],
      "source": [
        "file_dir='C:\\\\TF2_Object_Detection_API\\\\datasets\\\\non_violent'\n",
        "save_dir='C:\\\\TF2_Object_Detection_API\\\\datasets\\\\AllVideo_NonFight_Numpy'\n",
        "Save2Npy(file_dir=file_dir, save_dir=save_dir)"
      ]
    },
    {
      "cell_type": "code",
      "execution_count": null,
      "id": "a7c5ba89",
      "metadata": {
        "id": "a7c5ba89",
        "outputId": "d48dca3f-0569-4716-b813-671f61124a0e"
      },
      "outputs": [
        {
          "name": "stdout",
          "output_type": "stream",
          "text": [
            "350\n"
          ]
        }
      ],
      "source": [
        "Fight_dir='C:\\\\TF2_Object_Detection_API\\\\datasets\\\\AllVideo_Fight_Numpy' # Folder that contains Fight(Violence) Video files\n",
        "file_list_npy = os.listdir(Fight_dir) # File name list\n",
        "\n",
        "import gc\n",
        "\n",
        "data_Fight=[]\n",
        "for file in file_list_npy:\n",
        "    file_path=os.path.join(Fight_dir, file)\n",
        "    x=np.load(file_path)\n",
        "    data_Fight.append(x)\n",
        "    gc.collect()\n",
        "\n",
        "print(len(data_Fight))"
      ]
    },
    {
      "cell_type": "code",
      "execution_count": null,
      "id": "f9e3d67d",
      "metadata": {
        "id": "f9e3d67d",
        "outputId": "35e97b12-28c2-404b-fd9b-1b300332e28d"
      },
      "outputs": [
        {
          "name": "stdout",
          "output_type": "stream",
          "text": [
            "276\n"
          ]
        }
      ],
      "source": [
        "NonFight_dir='C:\\\\TF2_Object_Detection_API\\\\datasets\\\\AllVideo_NonFight_Numpy'\n",
        "file_list_npy=os.listdir(NonFight_dir)\n",
        "\n",
        "import gc\n",
        "\n",
        "data_NonFight=[]\n",
        "for file in file_list_npy:\n",
        "    file_path=os.path.join(NonFight_dir, file)\n",
        "    x=np.load(file_path)\n",
        "    data_NonFight.append(x)\n",
        "    gc.collect()\n",
        "\n",
        "print(len(data_NonFight))"
      ]
    },
    {
      "cell_type": "code",
      "execution_count": null,
      "id": "1def7a09",
      "metadata": {
        "id": "1def7a09"
      },
      "outputs": [],
      "source": [
        "with open(\"C:\\\\TF2_Object_Detection_API\\\\datasets\\\\AllVideo_numpy_list_pickle\\\\01_data_Fight_211206.pickle\",\"wb\") as fw:\n",
        "    pickle.dump(data_Fight, fw, protocol=pickle.HIGHEST_PROTOCOL)"
      ]
    },
    {
      "cell_type": "code",
      "execution_count": null,
      "id": "2743ec7b",
      "metadata": {
        "id": "2743ec7b"
      },
      "outputs": [],
      "source": [
        "with open(\"C:\\\\TF2_Object_Detection_API\\\\datasets\\\\AllVideo_numpy_list_pickle\\\\01_data_NonFight_211206.pickle\",\"wb\") as fw:\n",
        "    pickle.dump(data_NonFight, fw, protocol=pickle.HIGHEST_PROTOCOL)"
      ]
    },
    {
      "cell_type": "code",
      "execution_count": null,
      "id": "3174710b",
      "metadata": {
        "id": "3174710b"
      },
      "outputs": [],
      "source": [
        "label_Fight_per_video=np.array([0,1])\n",
        "label_Fight=[label_Fight_per_video]*len(data_Fight) # As amount as count of Violence(Fight) Video\n",
        "\n",
        "label_NonFight_per_video=np.array([1,0])\n",
        "label_NonFight=[label_NonFight_per_video]*len(data_NonFight) # As amount as count of Non-Violence(NonFight) Video"
      ]
    },
    {
      "cell_type": "code",
      "execution_count": null,
      "id": "c6b9e91d",
      "metadata": {
        "id": "c6b9e91d",
        "outputId": "636bd803-eeb2-4c7a-a8fd-0b1f85d8dcc2"
      },
      "outputs": [
        {
          "data": {
            "text/plain": [
              "(350, 276)"
            ]
          },
          "execution_count": 11,
          "metadata": {},
          "output_type": "execute_result"
        }
      ],
      "source": [
        "len(label_Fight), len(label_NonFight)"
      ]
    },
    {
      "cell_type": "code",
      "execution_count": null,
      "id": "59fe4169",
      "metadata": {
        "id": "59fe4169",
        "outputId": "68e95195-2ea7-4f34-a0a1-9a156905cd07"
      },
      "outputs": [
        {
          "data": {
            "text/plain": [
              "(array([0, 1]), array([1, 0]))"
            ]
          },
          "execution_count": 12,
          "metadata": {},
          "output_type": "execute_result"
        }
      ],
      "source": [
        "label_Fight[0], label_NonFight[0]"
      ]
    },
    {
      "cell_type": "code",
      "execution_count": null,
      "id": "17a9df71",
      "metadata": {
        "id": "17a9df71"
      },
      "outputs": [],
      "source": [
        "with open(\"C:\\\\TF2_Object_Detection_API\\\\datasets\\\\AllVideo_numpy_list_pickle\\\\01_label_Fight_211206.pickle\",\"wb\") as fw:\n",
        "    pickle.dump(label_Fight, fw)"
      ]
    },
    {
      "cell_type": "code",
      "execution_count": null,
      "id": "fb5f0218",
      "metadata": {
        "id": "fb5f0218"
      },
      "outputs": [],
      "source": [
        "with open(\"C:\\\\TF2_Object_Detection_API\\\\datasets\\\\AllVideo_numpy_list_pickle\\\\01_label_NonFight_211206.pickle\",\"wb\") as fw:\n",
        "    pickle.dump(label_NonFight, fw)"
      ]
    },
    {
      "cell_type": "markdown",
      "id": "a20eee71",
      "metadata": {
        "id": "a20eee71"
      },
      "source": [
        "# 02.Making Train set & Test set"
      ]
    },
    {
      "cell_type": "code",
      "execution_count": null,
      "id": "1907160e",
      "metadata": {
        "id": "1907160e"
      },
      "outputs": [],
      "source": [
        "# imports\n",
        "from random import shuffle"
      ]
    },
    {
      "cell_type": "code",
      "execution_count": null,
      "id": "30cf3dbf",
      "metadata": {
        "id": "30cf3dbf",
        "outputId": "b6a9dadb-e7c7-40ce-9371-0ebe1adcc395"
      },
      "outputs": [
        {
          "name": "stdout",
          "output_type": "stream",
          "text": [
            "350\n"
          ]
        }
      ],
      "source": [
        "# Fight Video frames Numpy array list : /content/drive/MyDrive/Team2/Violence_detection/1109_projectRVD/datasets/AllVideo_numpy_list_pickle/01_data_Fight_211109.pickle\n",
        "with open(\"C:\\\\TF2_Object_Detection_API\\\\datasets\\\\AllVideo_numpy_list_pickle\\\\01_data_Fight_211206.pickle\",\"rb\") as fr:\n",
        "    data_Fight=pickle.load(fr)\n",
        "print(len(data_Fight))"
      ]
    },
    {
      "cell_type": "code",
      "execution_count": null,
      "id": "49be016c",
      "metadata": {
        "id": "49be016c",
        "outputId": "ab1e3c1f-95e9-4ba3-b1f9-d7bc25dbf8b0"
      },
      "outputs": [
        {
          "name": "stdout",
          "output_type": "stream",
          "text": [
            "350\n"
          ]
        }
      ],
      "source": [
        "# NonFight Video frames Numpy array list : /content/drive/MyDrive/Team2/Violence_detection/1109_projectRVD/datasets/AllVideo_numpy_list_pickle/01_data_NonFight_211109.pickle\n",
        "with open(\"C:\\\\TF2_Object_Detection_API\\\\datasets\\\\AllVideo_numpy_list_pickle\\\\01_label_Fight_211206.pickle\",\"rb\") as fr:\n",
        "    label_Fight=pickle.load(fr)\n",
        "print(len(label_Fight))"
      ]
    },
    {
      "cell_type": "code",
      "execution_count": null,
      "id": "e10efe95",
      "metadata": {
        "id": "e10efe95",
        "outputId": "3b1711a8-b6cc-4f19-b131-d939c6b351d8"
      },
      "outputs": [
        {
          "name": "stdout",
          "output_type": "stream",
          "text": [
            "276\n"
          ]
        }
      ],
      "source": [
        "# Fight label Numpy array list :/content/drive/MyDrive/Team2/Violence_detection/1109_projectRVD/datasets/AllVideo_numpy_list_pickle/01_label_Fight_211109.pickle\n",
        "with open(\"C:\\\\TF2_Object_Detection_API\\\\datasets\\\\AllVideo_numpy_list_pickle\\\\01_data_NonFight_211206.pickle\",\"rb\") as fr:\n",
        "    data_NonFight=pickle.load(fr)\n",
        "print(len(data_NonFight))"
      ]
    },
    {
      "cell_type": "code",
      "execution_count": null,
      "id": "efd4c21d",
      "metadata": {
        "id": "efd4c21d",
        "outputId": "006c3402-9bce-46a8-a248-e538eb83913a"
      },
      "outputs": [
        {
          "name": "stdout",
          "output_type": "stream",
          "text": [
            "276\n"
          ]
        }
      ],
      "source": [
        "# NonFight label Numpy array list : /content/drive/MyDrive/Team2/Violence_detection/1109_projectRVD/datasets/AllVideo_numpy_list_pickle/01_label_NonFight_211109.pickle\n",
        "with open(\"C:\\\\TF2_Object_Detection_API\\\\datasets\\\\AllVideo_numpy_list_pickle\\\\01_label_NonFight_211206.pickle\",\"rb\") as fr:\n",
        "    label_NonFight=pickle.load(fr)\n",
        "print(len(label_NonFight))"
      ]
    },
    {
      "cell_type": "code",
      "execution_count": null,
      "id": "36cb77c5",
      "metadata": {
        "id": "36cb77c5",
        "outputId": "1ed050bc-c7c4-42ea-8c33-a18bd3b90061"
      },
      "outputs": [
        {
          "name": "stdout",
          "output_type": "stream",
          "text": [
            "626\n",
            "626\n"
          ]
        }
      ],
      "source": [
        "data_total=data_Fight+data_NonFight\n",
        "print(len(data_total))\n",
        "\n",
        "label_total=label_Fight+label_NonFight\n",
        "print(len(label_total))\n",
        "\n",
        "np.random.seed(42)\n",
        "c=list(zip(data_total, label_total)) # zip \n",
        "shuffle(c) # Random Shuffle\n",
        "data_total, label_total=zip(*c) # unpackin"
      ]
    },
    {
      "cell_type": "code",
      "execution_count": null,
      "id": "82191479",
      "metadata": {
        "id": "82191479"
      },
      "outputs": [],
      "source": [
        "# Save data\n",
        "with open(\"C:\\\\TF2_Object_Detection_API\\\\datasets\\\\AllVideo_numpy_list_pickle\\\\02_data_total_211206.pickle\",\"wb\") as fw:\n",
        "    pickle.dump(data_total, fw, protocol=pickle.HIGHEST_PROTOCOL)\n",
        "\n",
        "# Save label\n",
        "with open(\"C:\\\\TF2_Object_Detection_API\\\\datasets\\\\AllVideo_numpy_list_pickle\\\\02_label_total_211206.pickle\",\"wb\") as fw:\n",
        "    pickle.dump(label_total, fw)"
      ]
    },
    {
      "cell_type": "code",
      "execution_count": null,
      "id": "0e2b4f39",
      "metadata": {
        "id": "0e2b4f39"
      },
      "outputs": [],
      "source": [
        "# load data\n",
        "with open(\"C:\\\\TF2_Object_Detection_API\\\\datasets\\\\AllVideo_numpy_list_pickle\\\\02_data_total_211206.pickle\",\"rb\") as fr:\n",
        "    data_total=pickle.load(fr)\n",
        "\n",
        "# load label\n",
        "with open(\"C:\\\\TF2_Object_Detection_API\\\\datasets\\\\AllVideo_numpy_list_pickle\\\\02_label_total_211206.pickle\",\"rb\") as fr:\n",
        "    label_total=pickle.load(fr)"
      ]
    },
    {
      "cell_type": "code",
      "execution_count": null,
      "id": "782e7fa1",
      "metadata": {
        "id": "782e7fa1",
        "outputId": "4e0ef789-c92e-4cf5-849c-303266772de3"
      },
      "outputs": [
        {
          "data": {
            "text/plain": [
              "(500, 500, 126, 126)"
            ]
          },
          "execution_count": 23,
          "metadata": {},
          "output_type": "execute_result"
        }
      ],
      "source": [
        "training_set=int(len(data_total)*0.8)\n",
        "test_set=int(len(data_total)*0.2)\n",
        "\n",
        "data_training=data_total[0:training_set] # Training set data\n",
        "data_test=data_total[training_set:] # Test set data\n",
        "\n",
        "label_training=label_total[0:training_set] # Training set label\n",
        "label_test=label_total[training_set:] # Test set label\n",
        "\n",
        "len(data_training), len(label_training), len(data_test), len(label_test)"
      ]
    },
    {
      "cell_type": "code",
      "execution_count": null,
      "id": "154e474b",
      "metadata": {
        "id": "154e474b",
        "outputId": "f973110d-86d7-443e-9870-21fdb27ffb10"
      },
      "outputs": [
        {
          "data": {
            "text/plain": [
              "((30, 160, 160, 3), (2,))"
            ]
          },
          "execution_count": 24,
          "metadata": {},
          "output_type": "execute_result"
        }
      ],
      "source": [
        "# check the shape of elements\n",
        "data_training[0].shape, label_training[0].shape"
      ]
    },
    {
      "cell_type": "code",
      "execution_count": null,
      "id": "c82a27f1",
      "metadata": {
        "id": "c82a27f1",
        "outputId": "c061f27f-dcdc-477e-f8a9-71b39c01fff4"
      },
      "outputs": [
        {
          "data": {
            "text/plain": [
              "array([[0.        , 0.18823529, 0.63137255, ..., 0.74803922, 0.10637255,\n",
              "        0.        ],\n",
              "       [0.        , 0.18431373, 0.625     , ..., 0.67941176, 0.07254902,\n",
              "        0.        ],\n",
              "       [0.        , 0.18284314, 0.61568627, ..., 0.52009804, 0.04803922,\n",
              "        0.        ],\n",
              "       ...,\n",
              "       [0.        , 0.        , 0.        , ..., 0.17058824, 0.01666667,\n",
              "        0.        ],\n",
              "       [0.        , 0.        , 0.        , ..., 0.19460784, 0.04656863,\n",
              "        0.        ],\n",
              "       [0.        , 0.        , 0.        , ..., 0.20147059, 0.0627451 ,\n",
              "        0.        ]])"
            ]
          },
          "execution_count": 25,
          "metadata": {},
          "output_type": "execute_result"
        }
      ],
      "source": [
        "data_training[0][0, :, :, 0]"
      ]
    },
    {
      "cell_type": "code",
      "execution_count": null,
      "id": "f2e7339b",
      "metadata": {
        "id": "f2e7339b"
      },
      "outputs": [],
      "source": [
        "# training set, data\n",
        "with open(\"C:\\\\TF2_Object_Detection_API\\\\datasets\\\\AllVideo_numpy_list_pickle\\\\02_data_training_211206.pickle\",\"wb\") as fw:\n",
        "    pickle.dump(data_training, fw, protocol=pickle.HIGHEST_PROTOCOL)\n",
        "\n",
        "# training set, label\n",
        "with open(\"C:\\\\TF2_Object_Detection_API\\\\datasets\\\\AllVideo_numpy_list_pickle\\\\02_label_training_211206.pickle\",\"wb\") as fw:\n",
        "    pickle.dump(label_training, fw)\n",
        "\n",
        "# test set, data\n",
        "with open(\"C:\\\\TF2_Object_Detection_API\\\\datasets\\\\AllVideo_numpy_list_pickle\\\\02_data_test_211206.pickle\",\"wb\") as fw:\n",
        "    pickle.dump(data_test, fw, protocol=pickle.HIGHEST_PROTOCOL)\n",
        "\n",
        "# test set, label\n",
        "with open(\"C:\\\\TF2_Object_Detection_API\\\\datasets\\\\AllVideo_numpy_list_pickle\\\\02_label_test_211206.pickle\",\"wb\") as fw:\n",
        "    pickle.dump(label_test, fw)"
      ]
    },
    {
      "cell_type": "code",
      "execution_count": null,
      "id": "7f6ecaa3",
      "metadata": {
        "id": "7f6ecaa3",
        "outputId": "3c08d4bc-5c9d-4880-c250-44eda05a292b"
      },
      "outputs": [
        {
          "data": {
            "text/plain": [
              "0"
            ]
          },
          "execution_count": 27,
          "metadata": {},
          "output_type": "execute_result"
        }
      ],
      "source": [
        "import gc\n",
        "gc.collect()"
      ]
    },
    {
      "cell_type": "code",
      "execution_count": null,
      "id": "598a0506",
      "metadata": {
        "id": "598a0506"
      },
      "outputs": [],
      "source": [
        "# Training set : data, label\n",
        "\n",
        "with open(\"C:\\\\TF2_Object_Detection_API\\\\datasets\\\\AllVideo_numpy_list_pickle\\\\02_data_training_211206.pickle\",\"rb\") as fr:\n",
        "    data_training=pickle.load(fr)\n",
        "\n",
        "with open(\"C:\\\\TF2_Object_Detection_API\\\\datasets\\\\AllVideo_numpy_list_pickle\\\\02_label_training_211206.pickle\",\"rb\") as fr:\n",
        "    label_training=pickle.load(fr)\n",
        "\n",
        "# Test set : data, label\n",
        "\n",
        "with open(\"C:\\\\TF2_Object_Detection_API\\\\datasets\\\\AllVideo_numpy_list_pickle\\\\02_data_test_211206.pickle\",\"rb\") as fr:\n",
        "    data_test=pickle.load(fr)\n",
        "\n",
        "with open(\"C:\\\\TF2_Object_Detection_API\\\\datasets\\\\AllVideo_numpy_list_pickle\\\\02_label_test_211206.pickle\",\"rb\") as fr:\n",
        "    label_test=pickle.load(fr)"
      ]
    },
    {
      "cell_type": "code",
      "execution_count": null,
      "id": "bbfda0f8",
      "metadata": {
        "id": "bbfda0f8",
        "outputId": "ac5b79cb-d5a1-4522-d2d0-1e848e3abe03"
      },
      "outputs": [
        {
          "data": {
            "text/plain": [
              "0"
            ]
          },
          "execution_count": 29,
          "metadata": {},
          "output_type": "execute_result"
        }
      ],
      "source": [
        "import gc\n",
        "gc.collect()"
      ]
    },
    {
      "cell_type": "code",
      "execution_count": null,
      "id": "bee72d4e",
      "metadata": {
        "id": "bee72d4e",
        "outputId": "c64e317b-ff1a-46ed-ae3f-684710aa71d3"
      },
      "outputs": [
        {
          "data": {
            "text/plain": [
              "((500, 30, 160, 160, 3), (500, 2))"
            ]
          },
          "execution_count": 30,
          "metadata": {},
          "output_type": "execute_result"
        }
      ],
      "source": [
        "# Training set\n",
        "\n",
        "data_training_ar=np.array(data_training, dtype=np.float16) #> (20, 30, 160, 160, 3)\n",
        "np.save('C:\\\\TF2_Object_Detection_API\\\\datasets\\\\AllVideo_numpy_list_pickle\\\\02_data_training_Numpy_211206.npy', data_training_ar)\n",
        "gc.collect()\n",
        "\n",
        "label_training_ar=np.array(label_training) #> (20, 2)\n",
        "np.save('C:\\\\TF2_Object_Detection_API\\\\datasets\\\\AllVideo_numpy_list_pickle\\\\02_label_training_Numpy_211206.npy', label_training_ar)\n",
        "gc.collect()\n",
        "\n",
        "data_training_ar.shape, label_training_ar.shape"
      ]
    },
    {
      "cell_type": "code",
      "execution_count": null,
      "id": "4a7ea7c0",
      "metadata": {
        "id": "4a7ea7c0",
        "outputId": "351a9b8f-6a36-469d-e063-4031564825c8"
      },
      "outputs": [
        {
          "data": {
            "text/plain": [
              "((126, 30, 160, 160, 3), (126, 2))"
            ]
          },
          "execution_count": 31,
          "metadata": {},
          "output_type": "execute_result"
        }
      ],
      "source": [
        "# Test set\n",
        "\n",
        "data_test_ar=np.array(data_test, dtype=np.float16) #> (6, 30, 160, 160, 3)\n",
        "\n",
        "np.save('C:\\\\TF2_Object_Detection_API\\\\datasets\\\\AllVideo_numpy_list_pickle\\\\02_data_test_Numpy_211206.npy', data_test_ar)\n",
        "\n",
        "label_test_ar=np.array(label_test) #> (6, 2)\n",
        "\n",
        "np.save('C:\\\\TF2_Object_Detection_API\\\\datasets\\\\AllVideo_numpy_list_pickle\\\\02_label_test_Numpy_211206.npy', label_test_ar)\n",
        "\n",
        "data_test_ar.shape, label_test_ar.shape"
      ]
    },
    {
      "cell_type": "markdown",
      "id": "5ec244a3",
      "metadata": {
        "id": "5ec244a3"
      },
      "source": [
        "# 03. Extract features from dataset by using MobileNet"
      ]
    },
    {
      "cell_type": "code",
      "execution_count": null,
      "id": "1bc12788",
      "metadata": {
        "id": "1bc12788"
      },
      "outputs": [],
      "source": [
        "# imports\n",
        "import numpy as np\n",
        "import os\n",
        "import tensorflow as tf\n",
        "from tensorflow import keras\n",
        "import random"
      ]
    },
    {
      "cell_type": "code",
      "execution_count": null,
      "id": "c9c2597c",
      "metadata": {
        "id": "c9c2597c",
        "outputId": "b5d7b187-707e-44c0-8611-91ec26d5e970"
      },
      "outputs": [
        {
          "data": {
            "text/plain": [
              "(500, 30, 160, 160, 3)"
            ]
          },
          "execution_count": 33,
          "metadata": {},
          "output_type": "execute_result"
        }
      ],
      "source": [
        "data_training_ar=np.load('C:\\\\TF2_Object_Detection_API\\\\datasets\\\\AllVideo_numpy_list_pickle\\\\02_data_training_Numpy_211206.npy') \n",
        "data_training_ar.shape #> (20, 30, 160, 160, 3)"
      ]
    },
    {
      "cell_type": "code",
      "execution_count": null,
      "id": "8a5e1cb4",
      "metadata": {
        "id": "8a5e1cb4",
        "outputId": "205b0045-25cb-4216-f53d-28d693d15a9e"
      },
      "outputs": [
        {
          "data": {
            "text/plain": [
              "(126, 30, 160, 160, 3)"
            ]
          },
          "execution_count": 34,
          "metadata": {},
          "output_type": "execute_result"
        }
      ],
      "source": [
        "data_test_ar=np.load('C:\\\\TF2_Object_Detection_API\\\\datasets\\\\AllVideo_numpy_list_pickle\\\\02_data_test_Numpy_211206.npy') \n",
        "data_test_ar.shape #> (6, 30, 160, 160, 3)"
      ]
    },
    {
      "cell_type": "code",
      "execution_count": null,
      "id": "35d54af2",
      "metadata": {
        "id": "35d54af2",
        "outputId": "fa7bdca8-937d-482e-9498-fde86a9a831c"
      },
      "outputs": [
        {
          "data": {
            "text/plain": [
              "(15000, 160, 160, 3)"
            ]
          },
          "execution_count": 35,
          "metadata": {},
          "output_type": "execute_result"
        }
      ],
      "source": [
        "data_training_ar=data_training_ar.reshape(data_training_ar.shape[0]*30, 160, 160, 3) \n",
        "data_training_ar.shape #> (600, 160, 160, 3)"
      ]
    },
    {
      "cell_type": "code",
      "execution_count": null,
      "id": "eef7cc78",
      "metadata": {
        "id": "eef7cc78",
        "outputId": "f74444e1-9179-4c98-b1f7-5ee8b155767d"
      },
      "outputs": [
        {
          "data": {
            "text/plain": [
              "(3780, 160, 160, 3)"
            ]
          },
          "execution_count": 36,
          "metadata": {},
          "output_type": "execute_result"
        }
      ],
      "source": [
        "data_test_ar=data_test_ar.reshape(data_test_ar.shape[0]*30, 160, 160, 3) \n",
        "data_test_ar.shape #> (180, 160, 160, 3)"
      ]
    },
    {
      "cell_type": "code",
      "execution_count": null,
      "id": "c009ff7a",
      "metadata": {
        "id": "c009ff7a",
        "outputId": "a40a4f8b-cf72-4831-9fa5-583e015b6bfb"
      },
      "outputs": [
        {
          "ename": "ValueError",
          "evalue": "cannot reshape array of size 1152000000 into shape (450000,160,160,3)",
          "output_type": "error",
          "traceback": [
            "\u001b[1;31m---------------------------------------------------------------------------\u001b[0m",
            "\u001b[1;31mValueError\u001b[0m                                Traceback (most recent call last)",
            "\u001b[1;32m~\\AppData\\Local\\Temp/ipykernel_2928/3793013255.py\u001b[0m in \u001b[0;36m<module>\u001b[1;34m\u001b[0m\n\u001b[1;32m----> 1\u001b[1;33m \u001b[0mdata_training_ar\u001b[0m\u001b[1;33m=\u001b[0m\u001b[0mdata_training_ar\u001b[0m\u001b[1;33m.\u001b[0m\u001b[0mreshape\u001b[0m\u001b[1;33m(\u001b[0m\u001b[0mdata_training_ar\u001b[0m\u001b[1;33m.\u001b[0m\u001b[0mshape\u001b[0m\u001b[1;33m[\u001b[0m\u001b[1;36m0\u001b[0m\u001b[1;33m]\u001b[0m\u001b[1;33m*\u001b[0m\u001b[1;36m30\u001b[0m\u001b[1;33m,\u001b[0m \u001b[1;36m160\u001b[0m\u001b[1;33m,\u001b[0m \u001b[1;36m160\u001b[0m\u001b[1;33m,\u001b[0m \u001b[1;36m3\u001b[0m\u001b[1;33m)\u001b[0m\u001b[1;33m\u001b[0m\u001b[1;33m\u001b[0m\u001b[0m\n\u001b[0m\u001b[0;32m      2\u001b[0m \u001b[0mdata_training_ar\u001b[0m\u001b[1;33m.\u001b[0m\u001b[0mshape\u001b[0m                           \u001b[1;31m#> (7200, 160, 160, 3)\u001b[0m\u001b[1;33m\u001b[0m\u001b[1;33m\u001b[0m\u001b[0m\n\u001b[0;32m      3\u001b[0m \u001b[1;33m\u001b[0m\u001b[0m\n\u001b[0;32m      4\u001b[0m \u001b[0mdata_test_ar\u001b[0m\u001b[1;33m=\u001b[0m\u001b[0mdata_test_ar\u001b[0m\u001b[1;33m.\u001b[0m\u001b[0mreshape\u001b[0m\u001b[1;33m(\u001b[0m\u001b[0mdata_test_ar\u001b[0m\u001b[1;33m.\u001b[0m\u001b[0mshape\u001b[0m\u001b[1;33m[\u001b[0m\u001b[1;36m0\u001b[0m\u001b[1;33m]\u001b[0m\u001b[1;33m*\u001b[0m\u001b[1;36m30\u001b[0m\u001b[1;33m,\u001b[0m \u001b[1;36m160\u001b[0m\u001b[1;33m,\u001b[0m \u001b[1;36m160\u001b[0m\u001b[1;33m,\u001b[0m \u001b[1;36m3\u001b[0m\u001b[1;33m)\u001b[0m\u001b[1;33m\u001b[0m\u001b[1;33m\u001b[0m\u001b[0m\n\u001b[0;32m      5\u001b[0m \u001b[0mdata_test_ar\u001b[0m\u001b[1;33m.\u001b[0m\u001b[0mshape\u001b[0m                               \u001b[1;31m#> (1800, 160, 160, 3)\u001b[0m\u001b[1;33m\u001b[0m\u001b[1;33m\u001b[0m\u001b[0m\n",
            "\u001b[1;31mValueError\u001b[0m: cannot reshape array of size 1152000000 into shape (450000,160,160,3)"
          ]
        }
      ],
      "source": [
        "data_training_ar=data_training_ar.reshape(data_training_ar.shape[0]*30, 160, 160, 3) \n",
        "data_training_ar.shape                           #> (7200, 160, 160, 3)\n",
        "\n",
        "data_test_ar=data_test_ar.reshape(data_test_ar.shape[0]*30, 160, 160, 3) \n",
        "data_test_ar.shape                               #> (1800, 160, 160, 3)\n",
        "\n",
        "X_train=base_model.predict(data_training_ar)\n",
        "print(X_train.shape)                             #> (7200, 160, 160, 3)\n",
        "\n",
        "X_test=base_model.predict(data_test_ar)\n",
        "print(X_test.shape)                              #> (1800, 160, 160, 3)"
      ]
    },
    {
      "cell_type": "code",
      "execution_count": null,
      "id": "0ab9cd5a",
      "metadata": {
        "id": "0ab9cd5a"
      },
      "outputs": [],
      "source": [
        "base_model=keras.applications.mobilenet.MobileNet(input_shape=(160, 160, 3),\n",
        "                                                  include_top=False,\n",
        "                                                  weights='imagenet', classes=2)"
      ]
    },
    {
      "cell_type": "code",
      "execution_count": null,
      "id": "cc0cec06",
      "metadata": {
        "id": "cc0cec06",
        "outputId": "b86bcaec-88e9-4683-d27f-03c1493c14c3"
      },
      "outputs": [
        {
          "name": "stdout",
          "output_type": "stream",
          "text": [
            "Model: \"mobilenet_1.00_160\"\n",
            "_________________________________________________________________\n",
            "Layer (type)                 Output Shape              Param #   \n",
            "=================================================================\n",
            "input_1 (InputLayer)         [(None, 160, 160, 3)]     0         \n",
            "_________________________________________________________________\n",
            "conv1 (Conv2D)               (None, 80, 80, 32)        864       \n",
            "_________________________________________________________________\n",
            "conv1_bn (BatchNormalization (None, 80, 80, 32)        128       \n",
            "_________________________________________________________________\n",
            "conv1_relu (ReLU)            (None, 80, 80, 32)        0         \n",
            "_________________________________________________________________\n",
            "conv_dw_1 (DepthwiseConv2D)  (None, 80, 80, 32)        288       \n",
            "_________________________________________________________________\n",
            "conv_dw_1_bn (BatchNormaliza (None, 80, 80, 32)        128       \n",
            "_________________________________________________________________\n",
            "conv_dw_1_relu (ReLU)        (None, 80, 80, 32)        0         \n",
            "_________________________________________________________________\n",
            "conv_pw_1 (Conv2D)           (None, 80, 80, 64)        2048      \n",
            "_________________________________________________________________\n",
            "conv_pw_1_bn (BatchNormaliza (None, 80, 80, 64)        256       \n",
            "_________________________________________________________________\n",
            "conv_pw_1_relu (ReLU)        (None, 80, 80, 64)        0         \n",
            "_________________________________________________________________\n",
            "conv_pad_2 (ZeroPadding2D)   (None, 81, 81, 64)        0         \n",
            "_________________________________________________________________\n",
            "conv_dw_2 (DepthwiseConv2D)  (None, 40, 40, 64)        576       \n",
            "_________________________________________________________________\n",
            "conv_dw_2_bn (BatchNormaliza (None, 40, 40, 64)        256       \n",
            "_________________________________________________________________\n",
            "conv_dw_2_relu (ReLU)        (None, 40, 40, 64)        0         \n",
            "_________________________________________________________________\n",
            "conv_pw_2 (Conv2D)           (None, 40, 40, 128)       8192      \n",
            "_________________________________________________________________\n",
            "conv_pw_2_bn (BatchNormaliza (None, 40, 40, 128)       512       \n",
            "_________________________________________________________________\n",
            "conv_pw_2_relu (ReLU)        (None, 40, 40, 128)       0         \n",
            "_________________________________________________________________\n",
            "conv_dw_3 (DepthwiseConv2D)  (None, 40, 40, 128)       1152      \n",
            "_________________________________________________________________\n",
            "conv_dw_3_bn (BatchNormaliza (None, 40, 40, 128)       512       \n",
            "_________________________________________________________________\n",
            "conv_dw_3_relu (ReLU)        (None, 40, 40, 128)       0         \n",
            "_________________________________________________________________\n",
            "conv_pw_3 (Conv2D)           (None, 40, 40, 128)       16384     \n",
            "_________________________________________________________________\n",
            "conv_pw_3_bn (BatchNormaliza (None, 40, 40, 128)       512       \n",
            "_________________________________________________________________\n",
            "conv_pw_3_relu (ReLU)        (None, 40, 40, 128)       0         \n",
            "_________________________________________________________________\n",
            "conv_pad_4 (ZeroPadding2D)   (None, 41, 41, 128)       0         \n",
            "_________________________________________________________________\n",
            "conv_dw_4 (DepthwiseConv2D)  (None, 20, 20, 128)       1152      \n",
            "_________________________________________________________________\n",
            "conv_dw_4_bn (BatchNormaliza (None, 20, 20, 128)       512       \n",
            "_________________________________________________________________\n",
            "conv_dw_4_relu (ReLU)        (None, 20, 20, 128)       0         \n",
            "_________________________________________________________________\n",
            "conv_pw_4 (Conv2D)           (None, 20, 20, 256)       32768     \n",
            "_________________________________________________________________\n",
            "conv_pw_4_bn (BatchNormaliza (None, 20, 20, 256)       1024      \n",
            "_________________________________________________________________\n",
            "conv_pw_4_relu (ReLU)        (None, 20, 20, 256)       0         \n",
            "_________________________________________________________________\n",
            "conv_dw_5 (DepthwiseConv2D)  (None, 20, 20, 256)       2304      \n",
            "_________________________________________________________________\n",
            "conv_dw_5_bn (BatchNormaliza (None, 20, 20, 256)       1024      \n",
            "_________________________________________________________________\n",
            "conv_dw_5_relu (ReLU)        (None, 20, 20, 256)       0         \n",
            "_________________________________________________________________\n",
            "conv_pw_5 (Conv2D)           (None, 20, 20, 256)       65536     \n",
            "_________________________________________________________________\n",
            "conv_pw_5_bn (BatchNormaliza (None, 20, 20, 256)       1024      \n",
            "_________________________________________________________________\n",
            "conv_pw_5_relu (ReLU)        (None, 20, 20, 256)       0         \n",
            "_________________________________________________________________\n",
            "conv_pad_6 (ZeroPadding2D)   (None, 21, 21, 256)       0         \n",
            "_________________________________________________________________\n",
            "conv_dw_6 (DepthwiseConv2D)  (None, 10, 10, 256)       2304      \n",
            "_________________________________________________________________\n",
            "conv_dw_6_bn (BatchNormaliza (None, 10, 10, 256)       1024      \n",
            "_________________________________________________________________\n",
            "conv_dw_6_relu (ReLU)        (None, 10, 10, 256)       0         \n",
            "_________________________________________________________________\n",
            "conv_pw_6 (Conv2D)           (None, 10, 10, 512)       131072    \n",
            "_________________________________________________________________\n",
            "conv_pw_6_bn (BatchNormaliza (None, 10, 10, 512)       2048      \n",
            "_________________________________________________________________\n",
            "conv_pw_6_relu (ReLU)        (None, 10, 10, 512)       0         \n",
            "_________________________________________________________________\n",
            "conv_dw_7 (DepthwiseConv2D)  (None, 10, 10, 512)       4608      \n",
            "_________________________________________________________________\n",
            "conv_dw_7_bn (BatchNormaliza (None, 10, 10, 512)       2048      \n",
            "_________________________________________________________________\n",
            "conv_dw_7_relu (ReLU)        (None, 10, 10, 512)       0         \n",
            "_________________________________________________________________\n",
            "conv_pw_7 (Conv2D)           (None, 10, 10, 512)       262144    \n",
            "_________________________________________________________________\n",
            "conv_pw_7_bn (BatchNormaliza (None, 10, 10, 512)       2048      \n",
            "_________________________________________________________________\n",
            "conv_pw_7_relu (ReLU)        (None, 10, 10, 512)       0         \n",
            "_________________________________________________________________\n",
            "conv_dw_8 (DepthwiseConv2D)  (None, 10, 10, 512)       4608      \n",
            "_________________________________________________________________\n",
            "conv_dw_8_bn (BatchNormaliza (None, 10, 10, 512)       2048      \n",
            "_________________________________________________________________\n",
            "conv_dw_8_relu (ReLU)        (None, 10, 10, 512)       0         \n",
            "_________________________________________________________________\n",
            "conv_pw_8 (Conv2D)           (None, 10, 10, 512)       262144    \n",
            "_________________________________________________________________\n",
            "conv_pw_8_bn (BatchNormaliza (None, 10, 10, 512)       2048      \n",
            "_________________________________________________________________\n",
            "conv_pw_8_relu (ReLU)        (None, 10, 10, 512)       0         \n",
            "_________________________________________________________________\n",
            "conv_dw_9 (DepthwiseConv2D)  (None, 10, 10, 512)       4608      \n",
            "_________________________________________________________________\n",
            "conv_dw_9_bn (BatchNormaliza (None, 10, 10, 512)       2048      \n",
            "_________________________________________________________________\n",
            "conv_dw_9_relu (ReLU)        (None, 10, 10, 512)       0         \n",
            "_________________________________________________________________\n",
            "conv_pw_9 (Conv2D)           (None, 10, 10, 512)       262144    \n",
            "_________________________________________________________________\n",
            "conv_pw_9_bn (BatchNormaliza (None, 10, 10, 512)       2048      \n",
            "_________________________________________________________________\n",
            "conv_pw_9_relu (ReLU)        (None, 10, 10, 512)       0         \n",
            "_________________________________________________________________\n",
            "conv_dw_10 (DepthwiseConv2D) (None, 10, 10, 512)       4608      \n",
            "_________________________________________________________________\n",
            "conv_dw_10_bn (BatchNormaliz (None, 10, 10, 512)       2048      \n",
            "_________________________________________________________________\n",
            "conv_dw_10_relu (ReLU)       (None, 10, 10, 512)       0         \n",
            "_________________________________________________________________\n",
            "conv_pw_10 (Conv2D)          (None, 10, 10, 512)       262144    \n",
            "_________________________________________________________________\n",
            "conv_pw_10_bn (BatchNormaliz (None, 10, 10, 512)       2048      \n",
            "_________________________________________________________________\n",
            "conv_pw_10_relu (ReLU)       (None, 10, 10, 512)       0         \n",
            "_________________________________________________________________\n",
            "conv_dw_11 (DepthwiseConv2D) (None, 10, 10, 512)       4608      \n",
            "_________________________________________________________________\n",
            "conv_dw_11_bn (BatchNormaliz (None, 10, 10, 512)       2048      \n",
            "_________________________________________________________________\n",
            "conv_dw_11_relu (ReLU)       (None, 10, 10, 512)       0         \n",
            "_________________________________________________________________\n",
            "conv_pw_11 (Conv2D)          (None, 10, 10, 512)       262144    \n",
            "_________________________________________________________________\n",
            "conv_pw_11_bn (BatchNormaliz (None, 10, 10, 512)       2048      \n",
            "_________________________________________________________________\n",
            "conv_pw_11_relu (ReLU)       (None, 10, 10, 512)       0         \n",
            "_________________________________________________________________\n",
            "conv_pad_12 (ZeroPadding2D)  (None, 11, 11, 512)       0         \n",
            "_________________________________________________________________\n",
            "conv_dw_12 (DepthwiseConv2D) (None, 5, 5, 512)         4608      \n",
            "_________________________________________________________________\n",
            "conv_dw_12_bn (BatchNormaliz (None, 5, 5, 512)         2048      \n",
            "_________________________________________________________________\n",
            "conv_dw_12_relu (ReLU)       (None, 5, 5, 512)         0         \n",
            "_________________________________________________________________\n",
            "conv_pw_12 (Conv2D)          (None, 5, 5, 1024)        524288    \n",
            "_________________________________________________________________\n",
            "conv_pw_12_bn (BatchNormaliz (None, 5, 5, 1024)        4096      \n",
            "_________________________________________________________________\n",
            "conv_pw_12_relu (ReLU)       (None, 5, 5, 1024)        0         \n",
            "_________________________________________________________________\n",
            "conv_dw_13 (DepthwiseConv2D) (None, 5, 5, 1024)        9216      \n",
            "_________________________________________________________________\n",
            "conv_dw_13_bn (BatchNormaliz (None, 5, 5, 1024)        4096      \n",
            "_________________________________________________________________\n",
            "conv_dw_13_relu (ReLU)       (None, 5, 5, 1024)        0         \n",
            "_________________________________________________________________\n",
            "conv_pw_13 (Conv2D)          (None, 5, 5, 1024)        1048576   \n",
            "_________________________________________________________________\n",
            "conv_pw_13_bn (BatchNormaliz (None, 5, 5, 1024)        4096      \n",
            "_________________________________________________________________\n",
            "conv_pw_13_relu (ReLU)       (None, 5, 5, 1024)        0         \n",
            "=================================================================\n",
            "Total params: 3,228,864\n",
            "Trainable params: 3,206,976\n",
            "Non-trainable params: 21,888\n",
            "_________________________________________________________________\n"
          ]
        }
      ],
      "source": [
        "base_model.summary() #> (None, 5, 5, 1024)"
      ]
    },
    {
      "cell_type": "code",
      "execution_count": null,
      "id": "07d627c1",
      "metadata": {
        "id": "07d627c1",
        "outputId": "02098f87-c53d-464f-9a64-69c3c52878d0"
      },
      "outputs": [
        {
          "name": "stdout",
          "output_type": "stream",
          "text": [
            "(15000, 5, 5, 1024)\n",
            "(3780, 5, 5, 1024)\n"
          ]
        }
      ],
      "source": [
        "np.random.seed(42)\n",
        "\n",
        "X_train=base_model.predict(data_training_ar)\n",
        "print(X_train.shape)                             #> (600, 5, 5, 1024)\n",
        "\n",
        "X_test=base_model.predict(data_test_ar)\n",
        "print(X_test.shape)                               #> (180, 5, 5, 1024)"
      ]
    },
    {
      "cell_type": "code",
      "execution_count": null,
      "id": "0ba66f09",
      "metadata": {
        "id": "0ba66f09",
        "outputId": "958bdf1b-03f0-4fcf-8e12-914cc8188559"
      },
      "outputs": [
        {
          "data": {
            "text/plain": [
              "((500, 30, 25600), (126, 30, 25600))"
            ]
          },
          "execution_count": 41,
          "metadata": {},
          "output_type": "execute_result"
        }
      ],
      "source": [
        "X_train_reshaped = X_train.reshape(int(X_train.shape[0]/30), 30, 5*5*1024) #> (20, 30, 25600) ndarray\n",
        "X_test_reshaped = X_test.reshape(int(X_test.shape[0]/30), 30, 5*5*1024) #> (6, 30, 25600) ndarray\n",
        "\n",
        "X_train_reshaped.shape, X_test_reshaped.shape"
      ]
    },
    {
      "cell_type": "code",
      "execution_count": null,
      "id": "1f2dd318",
      "metadata": {
        "id": "1f2dd318"
      },
      "outputs": [],
      "source": [
        "np.save('C:\\\\TF2_Object_Detection_API\\\\datasets\\\\AllVideo_numpy_list_pickle\\\\MobileNet_x_train_reshaped_211206.npy', X_train_reshaped)\n",
        "np.save('C:\\\\TF2_Object_Detection_API\\\\datasets\\\\AllVideo_numpy_list_pickle\\\\MobileNet_x_test_reshaped_211206.npy', X_test_reshaped)"
      ]
    },
    {
      "cell_type": "markdown",
      "id": "1e860c67",
      "metadata": {
        "id": "1e860c67"
      },
      "source": [
        "# 04. Train LSTM Model"
      ]
    },
    {
      "cell_type": "code",
      "execution_count": null,
      "id": "87a63c56",
      "metadata": {
        "id": "87a63c56"
      },
      "outputs": [],
      "source": [
        "# imports\n",
        "import numpy as np \n",
        "import os \n",
        "import tensorflow as tf\n",
        "from tensorflow import keras \n",
        "import time \n",
        "import matplotlib.pyplot as plt"
      ]
    },
    {
      "cell_type": "code",
      "execution_count": null,
      "id": "9e89f659",
      "metadata": {
        "id": "9e89f659"
      },
      "outputs": [],
      "source": [
        "X_train_reshaped=np.load('C:\\\\TF2_Object_Detection_API\\\\datasets\\\\AllVideo_numpy_list_pickle\\\\MobileNet_x_train_reshaped_211206.npy')\n",
        "\n",
        "X_test_reshaped=np.load('C:\\\\TF2_Object_Detection_API\\\\datasets\\\\AllVideo_numpy_list_pickle\\\\MobileNet_x_test_reshaped_211206.npy')\n",
        "\n",
        "y_train=np.load('C:\\\\TF2_Object_Detection_API\\\\datasets\\\\AllVideo_numpy_list_pickle\\\\02_label_training_Numpy_211206.npy')\n",
        "\n",
        "y_test=np.load('C:\\\\TF2_Object_Detection_API\\\\datasets\\\\AllVideo_numpy_list_pickle\\\\02_label_test_Numpy_211206.npy')"
      ]
    },
    {
      "cell_type": "code",
      "execution_count": null,
      "id": "a6b10c24",
      "metadata": {
        "id": "a6b10c24",
        "outputId": "da01e334-cf8e-43ec-8cbc-6387041a5491"
      },
      "outputs": [
        {
          "data": {
            "text/plain": [
              "((500, 30, 25600), (126, 30, 25600))"
            ]
          },
          "execution_count": 45,
          "metadata": {},
          "output_type": "execute_result"
        }
      ],
      "source": [
        "X_train_reshaped.shape, X_test_reshaped.shape #> (# of video file, # of frame img, 25600)"
      ]
    },
    {
      "cell_type": "code",
      "execution_count": null,
      "id": "95b18c7a",
      "metadata": {
        "id": "95b18c7a",
        "outputId": "38aad344-5e3e-4649-a391-a2ffb0678ace"
      },
      "outputs": [
        {
          "data": {
            "text/plain": [
              "((500, 2), (126, 2))"
            ]
          },
          "execution_count": 46,
          "metadata": {},
          "output_type": "execute_result"
        }
      ],
      "source": [
        "y_train.shape, y_test.shape #> (# of video file, # of class)"
      ]
    },
    {
      "cell_type": "code",
      "execution_count": null,
      "id": "25d9c856",
      "metadata": {
        "id": "25d9c856",
        "outputId": "96eedbb0-0438-4283-bcf4-82d2f8888655"
      },
      "outputs": [
        {
          "data": {
            "text/plain": [
              "array([[0, 1],\n",
              "       [0, 1],\n",
              "       [0, 1],\n",
              "       [0, 1],\n",
              "       [1, 0],\n",
              "       [1, 0],\n",
              "       [0, 1],\n",
              "       [0, 1],\n",
              "       [1, 0],\n",
              "       [1, 0],\n",
              "       [0, 1],\n",
              "       [1, 0],\n",
              "       [0, 1],\n",
              "       [0, 1],\n",
              "       [0, 1],\n",
              "       [1, 0],\n",
              "       [1, 0],\n",
              "       [0, 1],\n",
              "       [0, 1],\n",
              "       [0, 1]])"
            ]
          },
          "execution_count": 47,
          "metadata": {},
          "output_type": "execute_result"
        }
      ],
      "source": [
        "y_train[10:30]"
      ]
    },
    {
      "cell_type": "code",
      "execution_count": null,
      "id": "e09787a5",
      "metadata": {
        "id": "e09787a5",
        "outputId": "e881ea05-033b-4f7a-c12f-24f0b804244f"
      },
      "outputs": [
        {
          "name": "stdout",
          "output_type": "stream",
          "text": [
            "Model: \"sequential\"\n",
            "_________________________________________________________________\n",
            "Layer (type)                 Output Shape              Param #   \n",
            "=================================================================\n",
            "lstm (LSTM)                  (None, 512)               53479424  \n",
            "_________________________________________________________________\n",
            "dense (Dense)                (None, 1024)              525312    \n",
            "_________________________________________________________________\n",
            "activation (Activation)      (None, 1024)              0         \n",
            "_________________________________________________________________\n",
            "dense_1 (Dense)              (None, 256)               262400    \n",
            "_________________________________________________________________\n",
            "activation_1 (Activation)    (None, 256)               0         \n",
            "_________________________________________________________________\n",
            "dense_2 (Dense)              (None, 2)                 514       \n",
            "_________________________________________________________________\n",
            "activation_2 (Activation)    (None, 2)                 0         \n",
            "=================================================================\n",
            "Total params: 54,267,650\n",
            "Trainable params: 54,267,650\n",
            "Non-trainable params: 0\n",
            "_________________________________________________________________\n"
          ]
        }
      ],
      "source": [
        "chunk_size=25600\n",
        "n_chunks=30\n",
        "\n",
        "model=keras.models.Sequential()\n",
        "model.add(keras.layers.LSTM(512, input_shape=(n_chunks, chunk_size))) # (30, 25600)\n",
        "model.add(keras.layers.Dense(1024))\n",
        "model.add(keras.layers.Activation('relu'))\n",
        "model.add(keras.layers.Dense(256))\n",
        "model.add(keras.layers.Activation('sigmoid'))\n",
        "model.add(keras.layers.Dense(2))\n",
        "model.add(keras.layers.Activation('softmax'))\n",
        "\n",
        "model.compile(loss='mean_squared_error', optimizer='adam', metrics=['accuracy'])\n",
        "\n",
        "model.summary()"
      ]
    },
    {
      "cell_type": "code",
      "execution_count": null,
      "id": "3e2f5ad3",
      "metadata": {
        "id": "3e2f5ad3",
        "outputId": "81972015-ed18-4f6b-fd78-b2005b185483"
      },
      "outputs": [
        {
          "name": "stdout",
          "output_type": "stream",
          "text": [
            "('You must install pydot (`pip install pydot`) and install graphviz (see instructions at https://graphviz.gitlab.io/download/) ', 'for plot_model/model_to_dot to work.')\n"
          ]
        }
      ],
      "source": [
        "keras.utils.plot_model(model, show_shapes=True)"
      ]
    },
    {
      "cell_type": "code",
      "execution_count": null,
      "id": "7e0bbeae",
      "metadata": {
        "id": "7e0bbeae"
      },
      "outputs": [],
      "source": [
        "checkpoint_cb=keras.callbacks.ModelCheckpoint('C:\\\\TF2_Object_Detection_API\\\\datasets\\\\211206_MobileNet_checkpoint_epoch50.h5', save_best_only=True)"
      ]
    },
    {
      "cell_type": "code",
      "execution_count": null,
      "id": "e97c6cba",
      "metadata": {
        "id": "e97c6cba",
        "outputId": "5c1c0691-6265-4c48-d099-8eaf9c1493af"
      },
      "outputs": [
        {
          "name": "stdout",
          "output_type": "stream",
          "text": [
            "Epoch 1/50\n",
            "1/1 - 15s - loss: 0.2616 - accuracy: 0.5600\n",
            "WARNING:tensorflow:Can save best model only with val_loss available, skipping.\n",
            "Epoch 2/50\n",
            "1/1 - 1s - loss: 0.4398 - accuracy: 0.4400\n",
            "WARNING:tensorflow:Can save best model only with val_loss available, skipping.\n",
            "Epoch 3/50\n",
            "1/1 - 1s - loss: 0.2415 - accuracy: 0.5700\n",
            "WARNING:tensorflow:Can save best model only with val_loss available, skipping.\n",
            "Epoch 4/50\n",
            "1/1 - 1s - loss: 0.2257 - accuracy: 0.5800\n",
            "WARNING:tensorflow:Can save best model only with val_loss available, skipping.\n",
            "Epoch 5/50\n",
            "1/1 - 1s - loss: 0.2172 - accuracy: 0.6320\n",
            "WARNING:tensorflow:Can save best model only with val_loss available, skipping.\n",
            "Epoch 6/50\n",
            "1/1 - 1s - loss: 0.1902 - accuracy: 0.7660\n",
            "WARNING:tensorflow:Can save best model only with val_loss available, skipping.\n",
            "Epoch 7/50\n",
            "1/1 - 1s - loss: 0.1628 - accuracy: 0.8060\n",
            "WARNING:tensorflow:Can save best model only with val_loss available, skipping.\n",
            "Epoch 8/50\n",
            "1/1 - 1s - loss: 0.1348 - accuracy: 0.9160\n",
            "WARNING:tensorflow:Can save best model only with val_loss available, skipping.\n",
            "Epoch 9/50\n",
            "1/1 - 1s - loss: 0.1012 - accuracy: 0.9380\n",
            "WARNING:tensorflow:Can save best model only with val_loss available, skipping.\n",
            "Epoch 10/50\n",
            "1/1 - 1s - loss: 0.0697 - accuracy: 0.9540\n",
            "WARNING:tensorflow:Can save best model only with val_loss available, skipping.\n",
            "Epoch 11/50\n",
            "1/1 - 1s - loss: 0.0446 - accuracy: 0.9720\n",
            "WARNING:tensorflow:Can save best model only with val_loss available, skipping.\n",
            "Epoch 12/50\n",
            "1/1 - 1s - loss: 0.0276 - accuracy: 0.9820\n",
            "WARNING:tensorflow:Can save best model only with val_loss available, skipping.\n",
            "Epoch 13/50\n",
            "1/1 - 1s - loss: 0.0155 - accuracy: 0.9920\n",
            "WARNING:tensorflow:Can save best model only with val_loss available, skipping.\n",
            "Epoch 14/50\n",
            "1/1 - 1s - loss: 0.0095 - accuracy: 0.9940\n",
            "WARNING:tensorflow:Can save best model only with val_loss available, skipping.\n",
            "Epoch 15/50\n",
            "1/1 - 1s - loss: 0.0060 - accuracy: 1.0000\n",
            "WARNING:tensorflow:Can save best model only with val_loss available, skipping.\n",
            "Epoch 16/50\n",
            "1/1 - 2s - loss: 0.0042 - accuracy: 0.9980\n",
            "WARNING:tensorflow:Can save best model only with val_loss available, skipping.\n",
            "Epoch 17/50\n",
            "1/1 - 1s - loss: 0.0032 - accuracy: 0.9980\n",
            "WARNING:tensorflow:Can save best model only with val_loss available, skipping.\n",
            "Epoch 18/50\n",
            "1/1 - 2s - loss: 0.0025 - accuracy: 1.0000\n",
            "WARNING:tensorflow:Can save best model only with val_loss available, skipping.\n",
            "Epoch 19/50\n",
            "1/1 - 1s - loss: 0.0021 - accuracy: 1.0000\n",
            "WARNING:tensorflow:Can save best model only with val_loss available, skipping.\n",
            "Epoch 20/50\n",
            "1/1 - 2s - loss: 0.0018 - accuracy: 1.0000\n",
            "WARNING:tensorflow:Can save best model only with val_loss available, skipping.\n",
            "Epoch 21/50\n",
            "1/1 - 1s - loss: 0.0016 - accuracy: 1.0000\n",
            "WARNING:tensorflow:Can save best model only with val_loss available, skipping.\n",
            "Epoch 22/50\n",
            "1/1 - 1s - loss: 0.0017 - accuracy: 1.0000\n",
            "WARNING:tensorflow:Can save best model only with val_loss available, skipping.\n",
            "Epoch 23/50\n",
            "1/1 - 1s - loss: 0.0015 - accuracy: 1.0000\n",
            "WARNING:tensorflow:Can save best model only with val_loss available, skipping.\n",
            "Epoch 24/50\n",
            "1/1 - 1s - loss: 0.0015 - accuracy: 1.0000\n",
            "WARNING:tensorflow:Can save best model only with val_loss available, skipping.\n",
            "Epoch 25/50\n",
            "1/1 - 1s - loss: 0.0012 - accuracy: 1.0000\n",
            "WARNING:tensorflow:Can save best model only with val_loss available, skipping.\n",
            "Epoch 26/50\n",
            "1/1 - 1s - loss: 0.0011 - accuracy: 1.0000\n",
            "WARNING:tensorflow:Can save best model only with val_loss available, skipping.\n",
            "Epoch 27/50\n",
            "1/1 - 1s - loss: 0.0011 - accuracy: 1.0000\n",
            "WARNING:tensorflow:Can save best model only with val_loss available, skipping.\n",
            "Epoch 28/50\n",
            "1/1 - 1s - loss: 0.0010 - accuracy: 1.0000\n",
            "WARNING:tensorflow:Can save best model only with val_loss available, skipping.\n",
            "Epoch 29/50\n",
            "1/1 - 1s - loss: 9.7804e-04 - accuracy: 1.0000\n",
            "WARNING:tensorflow:Can save best model only with val_loss available, skipping.\n",
            "Epoch 30/50\n",
            "1/1 - 1s - loss: 9.1165e-04 - accuracy: 1.0000\n",
            "WARNING:tensorflow:Can save best model only with val_loss available, skipping.\n",
            "Epoch 31/50\n",
            "1/1 - 1s - loss: 8.5106e-04 - accuracy: 1.0000\n",
            "WARNING:tensorflow:Can save best model only with val_loss available, skipping.\n",
            "Epoch 32/50\n",
            "1/1 - 1s - loss: 7.5826e-04 - accuracy: 1.0000\n",
            "WARNING:tensorflow:Can save best model only with val_loss available, skipping.\n",
            "Epoch 33/50\n",
            "1/1 - 1s - loss: 6.4037e-04 - accuracy: 1.0000\n",
            "WARNING:tensorflow:Can save best model only with val_loss available, skipping.\n",
            "Epoch 34/50\n",
            "1/1 - 1s - loss: 6.4613e-04 - accuracy: 1.0000\n",
            "WARNING:tensorflow:Can save best model only with val_loss available, skipping.\n",
            "Epoch 35/50\n",
            "1/1 - 1s - loss: 5.1451e-04 - accuracy: 1.0000\n",
            "WARNING:tensorflow:Can save best model only with val_loss available, skipping.\n",
            "Epoch 36/50\n",
            "1/1 - 1s - loss: 5.5003e-04 - accuracy: 1.0000\n",
            "WARNING:tensorflow:Can save best model only with val_loss available, skipping.\n",
            "Epoch 37/50\n",
            "1/1 - 1s - loss: 4.0155e-04 - accuracy: 1.0000\n",
            "WARNING:tensorflow:Can save best model only with val_loss available, skipping.\n",
            "Epoch 38/50\n",
            "1/1 - 1s - loss: 4.7132e-04 - accuracy: 1.0000\n",
            "WARNING:tensorflow:Can save best model only with val_loss available, skipping.\n",
            "Epoch 39/50\n",
            "1/1 - 1s - loss: 3.8092e-04 - accuracy: 1.0000\n",
            "WARNING:tensorflow:Can save best model only with val_loss available, skipping.\n",
            "Epoch 40/50\n",
            "1/1 - 1s - loss: 3.9524e-04 - accuracy: 1.0000\n",
            "WARNING:tensorflow:Can save best model only with val_loss available, skipping.\n",
            "Epoch 41/50\n",
            "1/1 - 1s - loss: 3.2792e-04 - accuracy: 1.0000\n",
            "WARNING:tensorflow:Can save best model only with val_loss available, skipping.\n",
            "Epoch 42/50\n",
            "1/1 - 1s - loss: 3.3611e-04 - accuracy: 1.0000\n",
            "WARNING:tensorflow:Can save best model only with val_loss available, skipping.\n",
            "Epoch 43/50\n",
            "1/1 - 1s - loss: 3.1918e-04 - accuracy: 1.0000\n",
            "WARNING:tensorflow:Can save best model only with val_loss available, skipping.\n",
            "Epoch 44/50\n",
            "1/1 - 1s - loss: 2.9736e-04 - accuracy: 1.0000\n",
            "WARNING:tensorflow:Can save best model only with val_loss available, skipping.\n",
            "Epoch 45/50\n",
            "1/1 - 1s - loss: 2.8005e-04 - accuracy: 1.0000\n",
            "WARNING:tensorflow:Can save best model only with val_loss available, skipping.\n",
            "Epoch 46/50\n",
            "1/1 - 1s - loss: 2.6158e-04 - accuracy: 1.0000\n",
            "WARNING:tensorflow:Can save best model only with val_loss available, skipping.\n",
            "Epoch 47/50\n",
            "1/1 - 1s - loss: 2.5195e-04 - accuracy: 1.0000\n",
            "WARNING:tensorflow:Can save best model only with val_loss available, skipping.\n",
            "Epoch 48/50\n",
            "1/1 - 1s - loss: 2.3842e-04 - accuracy: 1.0000\n",
            "WARNING:tensorflow:Can save best model only with val_loss available, skipping.\n",
            "Epoch 49/50\n",
            "1/1 - 1s - loss: 2.2175e-04 - accuracy: 1.0000\n",
            "WARNING:tensorflow:Can save best model only with val_loss available, skipping.\n",
            "Epoch 50/50\n",
            "1/1 - 2s - loss: 2.0980e-04 - accuracy: 1.0000\n",
            "WARNING:tensorflow:Can save best model only with val_loss available, skipping.\n"
          ]
        }
      ],
      "source": [
        "np.random.seed(42)\n",
        "\n",
        "epoch=50\n",
        "batchS=500\n",
        "history=model.fit(x=X_train_reshaped[0:2100], y=y_train[0:2100],\n",
        "                  epochs=epoch,\n",
        "                  validation_data=(X_train_reshaped[2100:], y_train[2100:]),\n",
        "                  callbacks=[checkpoint_cb],\n",
        "                  batch_size=batchS, verbose=2)"
      ]
    },
    {
      "cell_type": "code",
      "execution_count": null,
      "id": "4b8bb657",
      "metadata": {
        "id": "4b8bb657",
        "outputId": "24d0529f-2bca-447b-adbc-adda8cec5481"
      },
      "outputs": [
        {
          "name": "stdout",
          "output_type": "stream",
          "text": [
            "4/4 [==============================] - 1s 63ms/step - loss: 0.2300 - accuracy: 0.7460\n"
          ]
        }
      ],
      "source": [
        "# evaluate LSTM Model by using test set\n",
        "result=model.evaluate(X_test_reshaped, y_test)"
      ]
    },
    {
      "cell_type": "code",
      "execution_count": null,
      "id": "0cdc88eb",
      "metadata": {
        "id": "0cdc88eb",
        "outputId": "87feaee2-25b2-4933-bd2f-4f40c188a74f"
      },
      "outputs": [
        {
          "name": "stdout",
          "output_type": "stream",
          "text": [
            "loss 0.23004958033561707\n",
            "accuracy 0.7460317611694336\n"
          ]
        }
      ],
      "source": [
        "# accuracy and loss of trained LSTM Model\n",
        "for name, value in zip(model.metrics_names, result):\n",
        "    print(name, value)"
      ]
    },
    {
      "cell_type": "code",
      "execution_count": null,
      "id": "67aab439",
      "metadata": {
        "id": "67aab439",
        "outputId": "d1dbbf05-a89f-4f2d-ac28-8e97ceb804c1"
      },
      "outputs": [
        {
          "data": {
            "image/png": "[encoded data removed]",
            "text/plain": [
              "<Figure size 432x288 with 1 Axes>"
            ]
          },
          "metadata": {
            "needs_background": "light"
          },
          "output_type": "display_data"
        },
        {
          "data": {
            "image/png": "[encoded data removed]",
            "text/plain": [
              "<Figure size 432x288 with 1 Axes>"
            ]
          },
          "metadata": {
            "needs_background": "light"
          },
          "output_type": "display_data"
        }
      ],
      "source": [
        "# draw plot of Accuracy and loss\n",
        "\n",
        "plt.plot(history.history['accuracy']) # Draw Accuracy plot\n",
        "# plt.plot(history.history['val_accuracy']) : 없는듯...왜? 학습을 잘못했나?? >> cuda, cudnn version 문제\n",
        "plt.title('model accuracy')\n",
        "plt.ylabel('accuracy')\n",
        "plt.xlabel('epoch')\n",
        "plt.legend(['validation'], loc='upper left')\n",
        "plt.savefig('C:\\\\TF2_Object_Detection_API\\\\datasets\\\\211206_MobileNet_model_accuracy_epoch50.jpg') #save .jpg img of Accuracy plot\n",
        "plt.show()\n",
        "\n",
        "plt.plot(history.history['loss']) # Draw Loss plot\n",
        "# plt.plot(history.history['val_loss'])\n",
        "plt.title('model loss')\n",
        "plt.ylabel('loss')\n",
        "plt.xlabel('epoch')\n",
        "plt.legend(['train', 'validation'], loc='upper left')\n",
        "plt.savefig('C:\\\\TF2_Object_Detection_API\\\\datasets\\\\211206_MobileNet_model_loss_epoch50.jpg') #save .jpg img of Loss plot\n",
        "plt.show()"
      ]
    },
    {
      "cell_type": "code",
      "execution_count": null,
      "id": "2a8fa4f6",
      "metadata": {
        "id": "2a8fa4f6"
      },
      "outputs": [],
      "source": [
        "model.save('C:\\\\TF2_Object_Detection_API\\\\datasets\\\\211206_MobileNet_model_epoch50.h5', include_optimizer=True)"
      ]
    },
    {
      "cell_type": "markdown",
      "id": "03ad8298",
      "metadata": {
        "id": "03ad8298"
      },
      "source": [
        "# Actual Use : Violence detection for .mp4 video file"
      ]
    },
    {
      "cell_type": "code",
      "execution_count": null,
      "id": "fc4d4098",
      "metadata": {
        "id": "fc4d4098"
      },
      "outputs": [],
      "source": [
        "# imports\n",
        "\n",
        "import cv2 # openCV 4.5.1\n",
        "import numpy as np\n",
        "import os\n",
        "import tensorflow as tf\n",
        "from tensorflow import keras\n",
        "import time \n",
        "\n",
        "from skimage.io import imread\n",
        "from skimage.transform import resize \n",
        "from PIL import Image, ImageFont, ImageDraw # add caption by using custom font\n",
        "\n",
        "from collections import deque"
      ]
    },
    {
      "cell_type": "code",
      "execution_count": null,
      "id": "06659c56",
      "metadata": {
        "id": "06659c56"
      },
      "outputs": [],
      "source": [
        "# base_model : MobileNet\n",
        "base_model=keras.applications.mobilenet.MobileNet(input_shape=(160, 160, 3),\n",
        "                                                  include_top=False,\n",
        "                                                  weights='imagenet', classes=2)"
      ]
    },
    {
      "cell_type": "code",
      "execution_count": null,
      "id": "b5ebef5b",
      "metadata": {
        "id": "b5ebef5b"
      },
      "outputs": [],
      "source": [
        "# model : trained LSTM model\n",
        "model=keras.models.load_model('C:\\\\TF2_Object_Detection_API\\\\datasets\\\\211206_MobileNet_model_epoch50.h5')"
      ]
    },
    {
      "cell_type": "code",
      "execution_count": null,
      "id": "e7884a32",
      "metadata": {
        "id": "e7884a32"
      },
      "outputs": [],
      "source": [
        "# video_reader()\n",
        "# load video file >> Scaling, resizing >> Transform to nparray >> return nparray\n",
        "def video_reader(cv2, filename):\n",
        "    \"\"\"Load 1 video file. Next, read each frame image and resize as (fps, 160, 160, 3) shape and return frame Numpy array.\"\"\"\n",
        "    \n",
        "    frames=np.zeros((30, 160, 160, 3), dtype=np.float) #> (fps, img size, img size, RGB)\n",
        "    \n",
        "    i=0\n",
        "    print(frames.shape)\n",
        "    vid=cv2.VideoCapture(filename) # read frame img from video file.\n",
        "    \n",
        "    if vid.isOpened():\n",
        "        grabbed, frame=vid.read() \n",
        "    else:\n",
        "        grabbed=False\n",
        "    \n",
        "    frm=resize(frame,(160, 160, 3))\n",
        "    frm=np.expand_dims(frm, axis=0)\n",
        "    \n",
        "    if(np.max(frm)>1):\n",
        "        frm=frm/255.0 # Scaling\n",
        "    frames[i][:]=frm\n",
        "    i+=1\n",
        "    print('Reading Video')\n",
        "    \n",
        "    while i<30:\n",
        "        grabbed, frame=vid.read()\n",
        "        frm=resize(frame, (160, 160, 3)) \n",
        "        frm=np.expand_dims(frm, axis=0)\n",
        "        if(np.max(frm)>1):\n",
        "            frm=frm/255.0\n",
        "        frames[i][:]=frm\n",
        "        i+=1\n",
        "        \n",
        "    return frames"
      ]
    },
    {
      "cell_type": "code",
      "execution_count": null,
      "id": "2c6026e7",
      "metadata": {
        "id": "2c6026e7"
      },
      "outputs": [],
      "source": [
        "# create_pred_imgarr()\n",
        "# Extract features of each frame img by using base_model(MobileNet)\n",
        "# Reshape features Numpy array to insert LSTM model\n",
        "def create_pred_imgarr(base_model, video_frm_ar):\n",
        "    \"\"\"Insert base_model(MobileNet) and result of video_reader() function.\n",
        "    This function extract features from each frame img by using base_model.\n",
        "    And reshape Numpy array to insert LSTM model : (1, 30, 25600)\"\"\"\n",
        "    video_frm_ar_dim=np.zeros((1, 30, 160, 160, 3), dtype=np.float)\n",
        "    video_frm_ar_dim[0][:][:]=video_frm_ar #> (1, 30, 160, 160, 3)\n",
        "     \n",
        "    # Extract features from each frame img by using base_model(MobileNet)\n",
        "    pred_imgarr=base_model.predict(video_frm_ar)\n",
        "    # Reshape features array : (1, fps, 25600)\n",
        "    pred_imgarr=pred_imgarr.reshape(1, pred_imgarr.shape[0], 5*5*1024)\n",
        "    \n",
        "    return pred_imgarr #> ex : (1, 30, 25600)"
      ]
    },
    {
      "cell_type": "code",
      "execution_count": null,
      "id": "edb8d9a4",
      "metadata": {
        "id": "edb8d9a4"
      },
      "outputs": [],
      "source": [
        "# pred_fight()\n",
        "# Distinguish Violence(Fight) / Non-Violence(NonFight)\n",
        "# Insert reshaped-features-array to trained LSTM model\n",
        "\n",
        "def pred_fight(model, pred_imgarr, acuracy=0.9):\n",
        "    \"\"\"If accuracy>=input value(ex:0.9), return (Violence)'True'. else, return 'False'.\n",
        "    ::model:: trained LSTM model (We already load .h5 file in the above.)\n",
        "    ::pred_imgarr:: (1, 30, 25600) shaped Numpy array. Extracted features.\n",
        "    ::accuracy:: default value is 0.9\"\"\"\n",
        "\n",
        "    pred_test=model.predict(pred_imgarr) #> Violence(Fight) : [0,1]. Non-Violence(NonFight) : [1,0]\n",
        "    \n",
        "    if pred_test[0][1] >= acuracy:\n",
        "        return True, pred_test[0][1] #> True, Probability of Violence\n",
        "    \n",
        "    else:\n",
        "        return False, pred_test[0][1] #> False, Probability of Violence"
      ]
    },
    {
      "cell_type": "code",
      "execution_count": null,
      "id": "577b77af",
      "metadata": {
        "id": "577b77af",
        "outputId": "3218b95f-328f-4fdb-fa43-908a49a3a41e"
      },
      "outputs": [
        {
          "name": "stderr",
          "output_type": "stream",
          "text": [
            "C:\\Users\\user\\AppData\\Local\\Temp/ipykernel_2928/2150661114.py:6: DeprecationWarning: `np.float` is a deprecated alias for the builtin `float`. To silence this warning, use `float` by itself. Doing this will not modify any behavior and is safe. If you specifically wanted the numpy scalar type, use `np.float64` here.\n",
            "Deprecated in NumPy 1.20; for more details and guidance: https://numpy.org/devdocs/release/1.20.0-notes.html#deprecations\n",
            "  frames=np.zeros((30, 160, 160, 3), dtype=np.float) #> (fps, img size, img size, RGB)\n"
          ]
        },
        {
          "name": "stdout",
          "output_type": "stream",
          "text": [
            "(30, 160, 160, 3)\n",
            "Reading Video\n"
          ]
        },
        {
          "name": "stderr",
          "output_type": "stream",
          "text": [
            "C:\\Users\\user\\AppData\\Local\\Temp/ipykernel_2928/1547568784.py:8: DeprecationWarning: `np.float` is a deprecated alias for the builtin `float`. To silence this warning, use `float` by itself. Doing this will not modify any behavior and is safe. If you specifically wanted the numpy scalar type, use `np.float64` here.\n",
            "Deprecated in NumPy 1.20; for more details and guidance: https://numpy.org/devdocs/release/1.20.0-notes.html#deprecations\n",
            "  video_frm_ar_dim=np.zeros((1, 30, 160, 160, 3), dtype=np.float)\n"
          ]
        },
        {
          "data": {
            "text/plain": [
              "(True, 0.9997762)"
            ]
          },
          "execution_count": 62,
          "metadata": {},
          "output_type": "execute_result"
        }
      ],
      "source": [
        "# check above functions doing well\n",
        "\n",
        "# 1. load any video file\n",
        "# video_file='/content/drive/MyDrive/Team2/Violence_detection/1105_jenil123/fight-detection-surv-dataset/fight/fi001.mp4'\n",
        "# (True, 0.9986896)\n",
        "# video_file = '/content/drive/MyDrive/Team2/Violence_detection/1105_jenil123/fight-detection-surv-dataset/noFight/nofi006.mp4'\n",
        "# (False, 0.00013885867)\n",
        "# video_file = '/content/drive/MyDrive/Team2/Violence_detection/1105_Sapir52/dataset_vedio/fi225_xvid.avi'\n",
        "# (False, 0.057196457) >> fight인데 nonfight...\n",
        "video_file = 'C:\\\\Users\\\\user\\\\Downloads\\\\raw\\\\test\\\\violent\\\\v2.mp4'\n",
        "# (False, 0.0019765943)\n",
        "# 2. check function's operation\n",
        "video_frm_ar=video_reader(cv2, video_file) # (30, 160, 160, 3)\n",
        "                                           # Reading Video\n",
        "\n",
        "pred_imgarr=create_pred_imgarr(base_model, video_frm_ar)\n",
        "pred_imgarr.shape  # (1, 30, 25600)\n",
        "\n",
        "preds=pred_fight(model, pred_imgarr, 0.9)\n",
        "preds #> (Violence True or False, Probability of Violence)"
      ]
    },
    {
      "cell_type": "code",
      "execution_count": null,
      "id": "1cb0e7f7",
      "metadata": {
        "id": "1cb0e7f7"
      },
      "outputs": [],
      "source": [
        "# define detect_violence()\n",
        "\n",
        "def detect_violence(video):\n",
        "    \"\"\" It contains video_reader(), create_pred_imgarr(), pred_fight() function as all-in-one.\n",
        "    ::video:: video file (.mp4, .avi, ...)\n",
        "    \n",
        "    video_reader() : Read each frame img by using openCV. Resize Numpy array\n",
        "    create_pred_imgarr() : Extract features from frame img array by using base model(MobileNet)\n",
        "    pred_fight() : Decide Violence True or False by using trained LSTM model\"\"\"\n",
        "    \n",
        "    video_frm_ar=video_reader(cv2, video) \n",
        "    pred_imgarr=create_pred_imgarr(base_model, video_frm_ar)\n",
        "    \n",
        "    time1=int(round(time.time()*1000))\n",
        "\n",
        "    f, precent=pred_fight(model, pred_imgarr, acuracy=0.65)\n",
        "    \n",
        "    time2=int(round(time.time()*1000))\n",
        "    \n",
        "    result={'Violence': f, #> True(Violence), False(Non-Violence)\n",
        "            'Violence Estimation': str(precent), # Probability of Violence\n",
        "            'Processing Time' : str(time2-time1)} \n",
        "    \n",
        "    return result"
      ]
    },
    {
      "cell_type": "code",
      "execution_count": null,
      "id": "123916c6",
      "metadata": {
        "id": "123916c6",
        "outputId": "b3f1ddea-c2d1-4ef6-b09e-249cab75938e"
      },
      "outputs": [
        {
          "name": "stderr",
          "output_type": "stream",
          "text": [
            "C:\\Users\\user\\AppData\\Local\\Temp/ipykernel_2928/2150661114.py:6: DeprecationWarning: `np.float` is a deprecated alias for the builtin `float`. To silence this warning, use `float` by itself. Doing this will not modify any behavior and is safe. If you specifically wanted the numpy scalar type, use `np.float64` here.\n",
            "Deprecated in NumPy 1.20; for more details and guidance: https://numpy.org/devdocs/release/1.20.0-notes.html#deprecations\n",
            "  frames=np.zeros((30, 160, 160, 3), dtype=np.float) #> (fps, img size, img size, RGB)\n"
          ]
        },
        {
          "name": "stdout",
          "output_type": "stream",
          "text": [
            "(30, 160, 160, 3)\n",
            "Reading Video\n"
          ]
        },
        {
          "name": "stderr",
          "output_type": "stream",
          "text": [
            "C:\\Users\\user\\AppData\\Local\\Temp/ipykernel_2928/1547568784.py:8: DeprecationWarning: `np.float` is a deprecated alias for the builtin `float`. To silence this warning, use `float` by itself. Doing this will not modify any behavior and is safe. If you specifically wanted the numpy scalar type, use `np.float64` here.\n",
            "Deprecated in NumPy 1.20; for more details and guidance: https://numpy.org/devdocs/release/1.20.0-notes.html#deprecations\n",
            "  video_frm_ar_dim=np.zeros((1, 30, 160, 160, 3), dtype=np.float)\n"
          ]
        },
        {
          "data": {
            "text/plain": [
              "{'Violence': True, 'Violence Estimation': '0.9306362', 'Processing Time': '65'}"
            ]
          },
          "execution_count": 67,
          "metadata": {},
          "output_type": "execute_result"
        }
      ],
      "source": [
        "# test function : detect_violence()\n",
        "\n",
        "# video_file='C:\\\\Users\\\\user\\\\Downloads\\WeCare\\\\output05.mp4'\n",
        "'''{'Violence': True, 'Violence Estimation': '0.9997708', 'Processing Time': '94'}'''\n",
        "# video_file='C:\\\\Users\\\\user\\\\Downloads\\\\raw\\\\test\\\\non_violent\\\\u10.mp4'\n",
        "'''{'Violence': False, 'Violence Estimation': '9.745419e-05', 'Processing Time': '78'}'''\n",
        "# video_file='C:\\\\Users\\\\user\\\\Downloads\\\\WeCare\\\\output04.mp4'\n",
        "'''{'Violence': False, 'Violence Estimation': '0.10261435', 'Processing Time': '94'}'''\n",
        "video_file='C:\\\\Users\\\\user\\\\Downloads\\\\WeCare\\\\output09.mp4'\n",
        "'''{'Violence': True, 'Violence Estimation': '0.9306362', 'Processing Time': '65'}'''\n",
        "detect_violence(video_file)"
      ]
    },
    {
      "cell_type": "code",
      "execution_count": null,
      "id": "d9ff987e",
      "metadata": {
        "id": "d9ff987e",
        "outputId": "95c6dcfe-3a42-4fa0-f3b8-d14e4217cf9c"
      },
      "outputs": [
        {
          "name": "stdout",
          "output_type": "stream",
          "text": [
            "./20211206|123928.mp4\n"
          ]
        }
      ],
      "source": [
        "import time\n",
        "\n",
        "video_name = time.strftime('%Y%m%d|%H%M%S')\n",
        "output_path='./' + video_name + '.mp4'\n",
        "print(output_path)"
      ]
    }
  ],
  "metadata": {
    "kernelspec": {
      "display_name": "Python [conda env:WeCare_env] *",
      "language": "python",
      "name": "conda-env-WeCare_env-py"
    },
    "language_info": {
      "codemirror_mode": {
        "name": "ipython",
        "version": 3
      },
      "file_extension": ".py",
      "mimetype": "text/x-python",
      "name": "python",
      "nbconvert_exporter": "python",
      "pygments_lexer": "ipython3",
      "version": "3.8.12"
    },
    "colab": {
      "name": "WeCare_Ai_model.ipynb",
      "provenance": []
    }
  },
  "nbformat": 4,
  "nbformat_minor": 5
}